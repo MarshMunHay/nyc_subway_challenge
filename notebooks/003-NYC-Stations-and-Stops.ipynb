{
 "cells": [
  {
   "cell_type": "code",
   "execution_count": 1,
   "id": "35d755e5-9d49-447b-a63c-ea90edf6eae8",
   "metadata": {},
   "outputs": [],
   "source": [
    "import pandas as pd"
   ]
  },
  {
   "cell_type": "code",
   "execution_count": 2,
   "id": "e142679a-b8cc-417a-b6a4-49f1b35fd316",
   "metadata": {},
   "outputs": [],
   "source": [
    "stop_names_df = pd.read_csv('static_google_transit/stops.txt')\n",
    "subway_stations_and_stops = pd.read_csv('mta/MTA_Subway_Stations_and_Complexes.csv')"
   ]
  },
  {
   "cell_type": "code",
   "execution_count": 3,
   "id": "058c394e-b3c3-434b-a0eb-9260ea6805b6",
   "metadata": {},
   "outputs": [],
   "source": [
    "stop_names_df.columns = [c.lower() for c in stop_names_df.columns]\n",
    "subway_stations_and_stops.columns = ['_'.join(c.split(' ')).lower() for c in subway_stations_and_stops.columns]"
   ]
  },
  {
   "cell_type": "code",
   "execution_count": 4,
   "id": "e6936a9d-633d-42af-91fc-960809ae1da4",
   "metadata": {},
   "outputs": [],
   "source": [
    "subway_stations_and_stops['list_of_gtfs_stop_ids'] = subway_stations_and_stops['gtfs_stop_ids'].apply(lambda x: x.replace(' ','').split(';'))"
   ]
  },
  {
   "cell_type": "code",
   "execution_count": 5,
   "id": "d09d3f7a-06be-4cb9-9a05-cb75a65ca437",
   "metadata": {},
   "outputs": [],
   "source": [
    "non_null_stop_names_df = stop_names_df.loc[~stop_names_df['parent_station'].isnull()].drop_duplicates()\n",
    "\n",
    "subway_stations_and_stops['composite_gtfs_stops_id'] = subway_stations_and_stops['list_of_gtfs_stop_ids'].apply(lambda x: '_'.join(x))\n",
    "unique_stops_df = subway_stations_and_stops[['list_of_gtfs_stop_ids','composite_gtfs_stops_id']].explode('list_of_gtfs_stop_ids')\n",
    "\n",
    "unique_stops_df = unique_stops_df.rename(columns={'list_of_gtfs_stop_ids':'stop_id'})"
   ]
  },
  {
   "cell_type": "code",
   "execution_count": 6,
   "id": "3532758a-29ea-46d0-a712-7d11cb50b8f2",
   "metadata": {},
   "outputs": [],
   "source": [
    "unique_stops_df.to_csv('unique_stops.csv', index=False)"
   ]
  },
  {
   "cell_type": "markdown",
   "id": "5f97de84-890e-4739-b866-8ea9c18db57a",
   "metadata": {},
   "source": [
    "# Checks"
   ]
  },
  {
   "cell_type": "code",
   "execution_count": 8,
   "id": "5801fa30-fbf2-4ae7-a1fc-5e56328a5c2c",
   "metadata": {},
   "outputs": [
    {
     "data": {
      "text/html": [
       "<div>\n",
       "<style scoped>\n",
       "    .dataframe tbody tr th:only-of-type {\n",
       "        vertical-align: middle;\n",
       "    }\n",
       "\n",
       "    .dataframe tbody tr th {\n",
       "        vertical-align: top;\n",
       "    }\n",
       "\n",
       "    .dataframe thead th {\n",
       "        text-align: right;\n",
       "    }\n",
       "</style>\n",
       "<table border=\"1\" class=\"dataframe\">\n",
       "  <thead>\n",
       "    <tr style=\"text-align: right;\">\n",
       "      <th></th>\n",
       "      <th>stop_id</th>\n",
       "      <th>composite_gtfs_stops_id</th>\n",
       "    </tr>\n",
       "  </thead>\n",
       "  <tbody>\n",
       "    <tr>\n",
       "      <th>0</th>\n",
       "      <td>R01</td>\n",
       "      <td>R01</td>\n",
       "    </tr>\n",
       "    <tr>\n",
       "      <th>1</th>\n",
       "      <td>R03</td>\n",
       "      <td>R03</td>\n",
       "    </tr>\n",
       "    <tr>\n",
       "      <th>2</th>\n",
       "      <td>R04</td>\n",
       "      <td>R04</td>\n",
       "    </tr>\n",
       "    <tr>\n",
       "      <th>3</th>\n",
       "      <td>R05</td>\n",
       "      <td>R05</td>\n",
       "    </tr>\n",
       "    <tr>\n",
       "      <th>4</th>\n",
       "      <td>R06</td>\n",
       "      <td>R06</td>\n",
       "    </tr>\n",
       "    <tr>\n",
       "      <th>...</th>\n",
       "      <td>...</td>\n",
       "      <td>...</td>\n",
       "    </tr>\n",
       "    <tr>\n",
       "      <th>442</th>\n",
       "      <td>M08</td>\n",
       "      <td>L17_M08</td>\n",
       "    </tr>\n",
       "    <tr>\n",
       "      <th>443</th>\n",
       "      <td>142</td>\n",
       "      <td>142_R27</td>\n",
       "    </tr>\n",
       "    <tr>\n",
       "      <th>443</th>\n",
       "      <td>R27</td>\n",
       "      <td>142_R27</td>\n",
       "    </tr>\n",
       "    <tr>\n",
       "      <th>444</th>\n",
       "      <td>A41</td>\n",
       "      <td>A41_R29</td>\n",
       "    </tr>\n",
       "    <tr>\n",
       "      <th>444</th>\n",
       "      <td>R29</td>\n",
       "      <td>A41_R29</td>\n",
       "    </tr>\n",
       "  </tbody>\n",
       "</table>\n",
       "<p>496 rows × 2 columns</p>\n",
       "</div>"
      ],
      "text/plain": [
       "    stop_id composite_gtfs_stops_id\n",
       "0       R01                     R01\n",
       "1       R03                     R03\n",
       "2       R04                     R04\n",
       "3       R05                     R05\n",
       "4       R06                     R06\n",
       "..      ...                     ...\n",
       "442     M08                 L17_M08\n",
       "443     142                 142_R27\n",
       "443     R27                 142_R27\n",
       "444     A41                 A41_R29\n",
       "444     R29                 A41_R29\n",
       "\n",
       "[496 rows x 2 columns]"
      ]
     },
     "execution_count": 8,
     "metadata": {},
     "output_type": "execute_result"
    }
   ],
   "source": [
    "unique_stops_df"
   ]
  },
  {
   "cell_type": "code",
   "execution_count": 9,
   "id": "ab611c8f-2f69-45fc-9309-901a5f9724bf",
   "metadata": {},
   "outputs": [
    {
     "data": {
      "text/html": [
       "<div>\n",
       "<style scoped>\n",
       "    .dataframe tbody tr th:only-of-type {\n",
       "        vertical-align: middle;\n",
       "    }\n",
       "\n",
       "    .dataframe tbody tr th {\n",
       "        vertical-align: top;\n",
       "    }\n",
       "\n",
       "    .dataframe thead th {\n",
       "        text-align: right;\n",
       "    }\n",
       "</style>\n",
       "<table border=\"1\" class=\"dataframe\">\n",
       "  <thead>\n",
       "    <tr style=\"text-align: right;\">\n",
       "      <th></th>\n",
       "      <th>stop_id</th>\n",
       "      <th>composite_gtfs_stops_id</th>\n",
       "    </tr>\n",
       "  </thead>\n",
       "  <tbody>\n",
       "    <tr>\n",
       "      <th>423</th>\n",
       "      <td>725</td>\n",
       "      <td>127_725_902_A27_R16</td>\n",
       "    </tr>\n",
       "  </tbody>\n",
       "</table>\n",
       "</div>"
      ],
      "text/plain": [
       "    stop_id composite_gtfs_stops_id\n",
       "423     725     127_725_902_A27_R16"
      ]
     },
     "execution_count": 9,
     "metadata": {},
     "output_type": "execute_result"
    }
   ],
   "source": [
    "unique_stops_df.loc[unique_stops_df['stop_id'] == '725']"
   ]
  },
  {
   "cell_type": "code",
   "execution_count": 10,
   "id": "1f316ce3-ed58-421c-9fbe-5f3a10ecda65",
   "metadata": {},
   "outputs": [
    {
     "data": {
      "text/plain": [
       "(445, 18)"
      ]
     },
     "execution_count": 10,
     "metadata": {},
     "output_type": "execute_result"
    }
   ],
   "source": [
    "subway_stations_and_stops.shape"
   ]
  },
  {
   "cell_type": "code",
   "execution_count": 11,
   "id": "297ef050-5477-46cc-9a38-5321c64c4cda",
   "metadata": {},
   "outputs": [
    {
     "data": {
      "text/plain": [
       "(496, 2)"
      ]
     },
     "execution_count": 11,
     "metadata": {},
     "output_type": "execute_result"
    }
   ],
   "source": [
    "unique_stops_df.shape"
   ]
  },
  {
   "cell_type": "code",
   "execution_count": null,
   "id": "3390238a-4051-48d8-9f49-2d6af1ab26f5",
   "metadata": {},
   "outputs": [],
   "source": []
  }
 ],
 "metadata": {
  "kernelspec": {
   "display_name": "Python 3 (ipykernel)",
   "language": "python",
   "name": "python3"
  },
  "language_info": {
   "codemirror_mode": {
    "name": "ipython",
    "version": 3
   },
   "file_extension": ".py",
   "mimetype": "text/x-python",
   "name": "python",
   "nbconvert_exporter": "python",
   "pygments_lexer": "ipython3",
   "version": "3.9.11"
  }
 },
 "nbformat": 4,
 "nbformat_minor": 5
}
